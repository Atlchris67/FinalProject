{
 "cells": [
  {
   "cell_type": "code",
   "execution_count": null,
   "metadata": {},
   "outputs": [],
   "source": [
    "#Decision Tree Classifier Confusion Matrix"
   ]
  },
  {
   "cell_type": "code",
   "execution_count": 10,
   "metadata": {},
   "outputs": [],
   "source": [
    "import pandas as pd\n",
    "from sklearn.metrics import confusion_matrix\n",
    "from sklearn.metrics import classification_report\n",
    "import numpy as np\n",
    "import scikitplot as skplt\n",
    "import matplotlib\n",
    "import matplotlib.pyplot as plt"
   ]
  },
  {
   "cell_type": "code",
   "execution_count": 11,
   "metadata": {},
   "outputs": [],
   "source": [
    "DT_csv='models/DecisionTreeClassifier/output/DecisionTreeClassifierResults.csv'\n",
    "DT_df=pd.read_csv(DT_csv)"
   ]
  },
  {
   "cell_type": "code",
   "execution_count": 12,
   "metadata": {},
   "outputs": [],
   "source": [
    "DTactualValue=DT_df['Actual Results']\n",
    "DTpredictedValue=DT_df['Predicted Results']"
   ]
  },
  {
   "cell_type": "code",
   "execution_count": 13,
   "metadata": {},
   "outputs": [],
   "source": [
    "DTactualValue=DTactualValue.values\n",
    "DTpredictedValue=DTpredictedValue.values"
   ]
  },
  {
   "cell_type": "code",
   "execution_count": 16,
   "metadata": {},
   "outputs": [
    {
     "name": "stdout",
     "output_type": "stream",
     "text": [
      "AxesSubplot(0.125,0.125;0.62x0.755)\n",
      "              precision    recall  f1-score   support\n",
      "\n",
      "           0       0.79      0.80      0.79       119\n",
      "           1       0.61      0.60      0.60        62\n",
      "\n",
      "    accuracy                           0.73       181\n",
      "   macro avg       0.70      0.70      0.70       181\n",
      "weighted avg       0.73      0.73      0.73       181\n",
      "\n"
     ]
    },
    {
     "data": {
      "image/png": "[encoded data removed]",
      "text/plain": [
       "<Figure size 432x288 with 2 Axes>"
      ]
     },
     "metadata": {
      "needs_background": "light"
     },
     "output_type": "display_data"
    }
   ],
   "source": [
    "DT_cm_plot=skplt.metrics.plot_confusion_matrix(DTactualValue,DTpredictedValue, normalize=True)\n",
    "print(DT_cm_plot)\n",
    "print(classification_report(DTactualValue,DTpredictedValue))"
   ]
  },
  {
   "cell_type": "code",
   "execution_count": 18,
   "metadata": {},
   "outputs": [
    {
     "name": "stdout",
     "output_type": "stream",
     "text": [
      "Based on this confusion matrix comparing the predicted and actual values of the decision tree classification machine learning model, it is apparent that the Decision Tree Classifier machine learning model created is relatively accurate; when you take all true postive and true negative predictions and divide them by the total observations, you get about 0.7, which is pretty high. The slightly high precision rate leads to a similar conclusion; 60% of positive predictions ended up being correct, which doesn't make the strongest case for this model,  but the fact that amount is abocve 50% proves that it does have some level of precision\n"
     ]
    }
   ],
   "source": [
    "print(\"Based on this confusion matrix comparing the predicted and actual values of the Decision Tree classification machine learning model, it is apparent that the model created is relatively accurate; when you take all true postive and true negative predictions and divide them by the total observations, you get about 0.7, which is pretty high. The slightly high precision rate leads to a similar conclusion; 60% of positive predictions ended up being correct, which doesn't make the strongest case for this model,  but the fact that amount is abocve 50% proves that it does have some level of precision.\")"
   ]
  },
  {
   "cell_type": "code",
   "execution_count": null,
   "metadata": {},
   "outputs": [],
   "source": []
  },
  {
   "cell_type": "code",
   "execution_count": null,
   "metadata": {},
   "outputs": [],
   "source": [
    "#Gradient Boosting Confusion Matrix"
   ]
  },
  {
   "cell_type": "code",
   "execution_count": 19,
   "metadata": {},
   "outputs": [],
   "source": [
    "#load data\n",
    "GB_csv='models/GradientBoostingClassifier/output/GradientBoostingClassifierResults.csv'\n",
    "GB_df=pd.read_csv(GB_csv)"
   ]
  },
  {
   "cell_type": "code",
   "execution_count": 20,
   "metadata": {},
   "outputs": [],
   "source": [
    "GBactualValue=GB_df['Actual Results']\n",
    "GBpredictedValue=GB_df['Predicted Results']"
   ]
  },
  {
   "cell_type": "code",
   "execution_count": 21,
   "metadata": {},
   "outputs": [],
   "source": [
    "GBactualValue=GBactualValue.values\n",
    "GBpredictedValue=GBpredictedValue.values"
   ]
  },
  {
   "cell_type": "code",
   "execution_count": 22,
   "metadata": {},
   "outputs": [
    {
     "name": "stdout",
     "output_type": "stream",
     "text": [
      "AxesSubplot(0.125,0.125;0.62x0.755)\n",
      "              precision    recall  f1-score   support\n",
      "\n",
      "           0       0.81      0.86      0.83       119\n",
      "           1       0.69      0.61      0.65        62\n",
      "\n",
      "    accuracy                           0.77       181\n",
      "   macro avg       0.75      0.74      0.74       181\n",
      "weighted avg       0.77      0.77      0.77       181\n",
      "\n"
     ]
    },
    {
     "data": {
      "image/png": "[encoded data removed]",
      "text/plain": [
       "<Figure size 432x288 with 2 Axes>"
      ]
     },
     "metadata": {
      "needs_background": "light"
     },
     "output_type": "display_data"
    }
   ],
   "source": [
    "GB_cm_plot=skplt.metrics.plot_confusion_matrix(GBactualValue,GBpredictedValue, normalize=True)\n",
    "print(GB_cm_plot)\n",
    "print(classification_report(GBactualValue,GBpredictedValue))"
   ]
  },
  {
   "cell_type": "code",
   "execution_count": 34,
   "metadata": {},
   "outputs": [
    {
     "name": "stdout",
     "output_type": "stream",
     "text": [
      "explanation\n"
     ]
    }
   ],
   "source": [
    "print(\"explanation\")"
   ]
  },
  {
   "cell_type": "code",
   "execution_count": 35,
   "metadata": {},
   "outputs": [],
   "source": [
    "#KNeighbor Classifier Confusion Matrix"
   ]
  },
  {
   "cell_type": "code",
   "execution_count": 24,
   "metadata": {},
   "outputs": [],
   "source": [
    "#load data\n",
    "KN_csv='models/KNeighborsClassifier/output/KNeighborsClassifierResults.csv'\n",
    "KN_df=pd.read_csv(KN_csv)"
   ]
  },
  {
   "cell_type": "code",
   "execution_count": 25,
   "metadata": {},
   "outputs": [],
   "source": [
    "KNactualValue=KN_df['Actual Results']\n",
    "KNpredictedValue=KN_df['Predicted Results']"
   ]
  },
  {
   "cell_type": "code",
   "execution_count": 26,
   "metadata": {},
   "outputs": [],
   "source": [
    "KNactualValue=KNactualValue.values\n",
    "KNpredictedValue=KNpredictedValue.values"
   ]
  },
  {
   "cell_type": "code",
   "execution_count": 27,
   "metadata": {},
   "outputs": [
    {
     "name": "stdout",
     "output_type": "stream",
     "text": [
      "AxesSubplot(0.125,0.125;0.62x0.755)\n",
      "              precision    recall  f1-score   support\n",
      "\n",
      "           0       0.77      0.84      0.80       119\n",
      "           1       0.63      0.52      0.57        62\n",
      "\n",
      "    accuracy                           0.73       181\n",
      "   macro avg       0.70      0.68      0.68       181\n",
      "weighted avg       0.72      0.73      0.72       181\n",
      "\n"
     ]
    },
    {
     "data": {
      "image/png": "[encoded data removed]",
      "text/plain": [
       "<Figure size 432x288 with 2 Axes>"
      ]
     },
     "metadata": {
      "needs_background": "light"
     },
     "output_type": "display_data"
    }
   ],
   "source": [
    "KN_cm_plot=skplt.metrics.plot_confusion_matrix(KNactualValue,KNpredictedValue, normalize=True)\n",
    "print(KN_cm_plot)\n",
    "print(classification_report(KNactualValue,KNpredictedValue))"
   ]
  },
  {
   "cell_type": "code",
   "execution_count": 36,
   "metadata": {},
   "outputs": [
    {
     "name": "stdout",
     "output_type": "stream",
     "text": [
      "explanation\n"
     ]
    }
   ],
   "source": [
    "print(\"explanation\")"
   ]
  },
  {
   "cell_type": "code",
   "execution_count": 28,
   "metadata": {},
   "outputs": [],
   "source": [
    "#Logistic Regression Model Confusion Matrix"
   ]
  },
  {
   "cell_type": "code",
   "execution_count": 29,
   "metadata": {},
   "outputs": [],
   "source": [
    "#load data\n",
    "LR_csv='models/LogisticRegression/output/LogisticRegressionResults.csv'\n",
    "LR_df=pd.read_csv(LR_csv)"
   ]
  },
  {
   "cell_type": "code",
   "execution_count": 30,
   "metadata": {},
   "outputs": [],
   "source": [
    "LRactualValue=LR_df['Actual Results']\n",
    "LRpredictedValue=LR_df['Predicted Results']"
   ]
  },
  {
   "cell_type": "code",
   "execution_count": 31,
   "metadata": {},
   "outputs": [],
   "source": [
    "LRactualValue=LRactualValue.values\n",
    "LRpredictedValue=LRpredictedValue.values"
   ]
  },
  {
   "cell_type": "code",
   "execution_count": 32,
   "metadata": {},
   "outputs": [
    {
     "name": "stdout",
     "output_type": "stream",
     "text": [
      "AxesSubplot(0.125,0.125;0.62x0.755)\n",
      "              precision    recall  f1-score   support\n",
      "\n",
      "           0       0.81      0.87      0.84       119\n",
      "           1       0.70      0.61      0.66        62\n",
      "\n",
      "    accuracy                           0.78       181\n",
      "   macro avg       0.76      0.74      0.75       181\n",
      "weighted avg       0.77      0.78      0.77       181\n",
      "\n"
     ]
    },
    {
     "data": {
      "image/png": "[encoded data removed]",
      "text/plain": [
       "<Figure size 432x288 with 2 Axes>"
      ]
     },
     "metadata": {
      "needs_background": "light"
     },
     "output_type": "display_data"
    }
   ],
   "source": [
    "LR_cm_plot=skplt.metrics.plot_confusion_matrix(LRactualValue,LRpredictedValue, normalize=True)\n",
    "print(LR_cm_plot)\n",
    "print(classification_report(LRactualValue,LRpredictedValue))"
   ]
  },
  {
   "cell_type": "code",
   "execution_count": 37,
   "metadata": {},
   "outputs": [
    {
     "name": "stdout",
     "output_type": "stream",
     "text": [
      "explanation\n"
     ]
    }
   ],
   "source": [
    "print(\"explanation\")"
   ]
  }
 ],
 "metadata": {
  "kernelspec": {
   "display_name": "Python 3",
   "language": "python",
   "name": "python3"
  },
  "language_info": {
   "codemirror_mode": {
    "name": "ipython",
    "version": 3
   },
   "file_extension": ".py",
   "mimetype": "text/x-python",
   "name": "python",
   "nbconvert_exporter": "python",
   "pygments_lexer": "ipython3",
   "version": "3.7.7"
  }
 },
 "nbformat": 4,
 "nbformat_minor": 4
}
